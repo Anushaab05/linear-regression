{
  "nbformat": 4,
  "nbformat_minor": 0,
  "metadata": {
    "colab": {
      "provenance": [],
      "collapsed_sections": [],
      "authorship_tag": "ABX9TyMNEj26jTXbi68Wv/pvNU92",
      "include_colab_link": true
    },
    "kernelspec": {
      "name": "python3",
      "display_name": "Python 3"
    },
    "language_info": {
      "name": "python"
    }
  },
  "cells": [
    {
      "cell_type": "markdown",
      "metadata": {
        "id": "view-in-github",
        "colab_type": "text"
      },
      "source": [
        "<a href=\"https://colab.research.google.com/github/Anushaab05/linear-regression/blob/main/Stakingeg.ipynb\" target=\"_parent\"><img src=\"https://colab.research.google.com/assets/colab-badge.svg\" alt=\"Open In Colab\"/></a>"
      ]
    },
    {
      "cell_type": "code",
      "execution_count": 12,
      "metadata": {
        "id": "HbEqg-j5NCpd"
      },
      "outputs": [],
      "source": [
        "import pandas as pd"
      ]
    },
    {
      "cell_type": "code",
      "source": [
        "b1=pd.read_csv('/content/Iris.csv')"
      ],
      "metadata": {
        "id": "yRL9h4THN6O3"
      },
      "execution_count": 14,
      "outputs": []
    },
    {
      "cell_type": "code",
      "source": [
        "x=b1.drop('Species',axis=1)"
      ],
      "metadata": {
        "id": "6XGqLQ8-OHcO"
      },
      "execution_count": 15,
      "outputs": []
    },
    {
      "cell_type": "code",
      "source": [
        "y=b1['Species'].copy()"
      ],
      "metadata": {
        "id": "cuVpMt84O5cl"
      },
      "execution_count": 16,
      "outputs": []
    },
    {
      "cell_type": "code",
      "source": [
        "x\n"
      ],
      "metadata": {
        "colab": {
          "base_uri": "https://localhost:8080/",
          "height": 424
        },
        "id": "jArfkzuUP1_s",
        "outputId": "aa08b908-f2fb-4a75-d95b-cf2fe95a960e"
      },
      "execution_count": 17,
      "outputs": [
        {
          "output_type": "execute_result",
          "data": {
            "text/plain": [
              "      Id  SepalLengthCm  SepalWidthCm  PetalLengthCm  PetalWidthCm\n",
              "0      1            5.1           3.5            1.4           0.2\n",
              "1      2            4.9           3.0            1.4           0.2\n",
              "2      3            4.7           3.2            1.3           0.2\n",
              "3      4            4.6           3.1            1.5           0.2\n",
              "4      5            5.0           3.6            1.4           0.2\n",
              "..   ...            ...           ...            ...           ...\n",
              "145  146            6.7           3.0            5.2           2.3\n",
              "146  147            6.3           2.5            5.0           1.9\n",
              "147  148            6.5           3.0            5.2           2.0\n",
              "148  149            6.2           3.4            5.4           2.3\n",
              "149  150            5.9           3.0            5.1           1.8\n",
              "\n",
              "[150 rows x 5 columns]"
            ],
            "text/html": [
              "\n",
              "  <div id=\"df-0f3060b6-fae3-40b7-a79d-b4c3ee2f257c\">\n",
              "    <div class=\"colab-df-container\">\n",
              "      <div>\n",
              "<style scoped>\n",
              "    .dataframe tbody tr th:only-of-type {\n",
              "        vertical-align: middle;\n",
              "    }\n",
              "\n",
              "    .dataframe tbody tr th {\n",
              "        vertical-align: top;\n",
              "    }\n",
              "\n",
              "    .dataframe thead th {\n",
              "        text-align: right;\n",
              "    }\n",
              "</style>\n",
              "<table border=\"1\" class=\"dataframe\">\n",
              "  <thead>\n",
              "    <tr style=\"text-align: right;\">\n",
              "      <th></th>\n",
              "      <th>Id</th>\n",
              "      <th>SepalLengthCm</th>\n",
              "      <th>SepalWidthCm</th>\n",
              "      <th>PetalLengthCm</th>\n",
              "      <th>PetalWidthCm</th>\n",
              "    </tr>\n",
              "  </thead>\n",
              "  <tbody>\n",
              "    <tr>\n",
              "      <th>0</th>\n",
              "      <td>1</td>\n",
              "      <td>5.1</td>\n",
              "      <td>3.5</td>\n",
              "      <td>1.4</td>\n",
              "      <td>0.2</td>\n",
              "    </tr>\n",
              "    <tr>\n",
              "      <th>1</th>\n",
              "      <td>2</td>\n",
              "      <td>4.9</td>\n",
              "      <td>3.0</td>\n",
              "      <td>1.4</td>\n",
              "      <td>0.2</td>\n",
              "    </tr>\n",
              "    <tr>\n",
              "      <th>2</th>\n",
              "      <td>3</td>\n",
              "      <td>4.7</td>\n",
              "      <td>3.2</td>\n",
              "      <td>1.3</td>\n",
              "      <td>0.2</td>\n",
              "    </tr>\n",
              "    <tr>\n",
              "      <th>3</th>\n",
              "      <td>4</td>\n",
              "      <td>4.6</td>\n",
              "      <td>3.1</td>\n",
              "      <td>1.5</td>\n",
              "      <td>0.2</td>\n",
              "    </tr>\n",
              "    <tr>\n",
              "      <th>4</th>\n",
              "      <td>5</td>\n",
              "      <td>5.0</td>\n",
              "      <td>3.6</td>\n",
              "      <td>1.4</td>\n",
              "      <td>0.2</td>\n",
              "    </tr>\n",
              "    <tr>\n",
              "      <th>...</th>\n",
              "      <td>...</td>\n",
              "      <td>...</td>\n",
              "      <td>...</td>\n",
              "      <td>...</td>\n",
              "      <td>...</td>\n",
              "    </tr>\n",
              "    <tr>\n",
              "      <th>145</th>\n",
              "      <td>146</td>\n",
              "      <td>6.7</td>\n",
              "      <td>3.0</td>\n",
              "      <td>5.2</td>\n",
              "      <td>2.3</td>\n",
              "    </tr>\n",
              "    <tr>\n",
              "      <th>146</th>\n",
              "      <td>147</td>\n",
              "      <td>6.3</td>\n",
              "      <td>2.5</td>\n",
              "      <td>5.0</td>\n",
              "      <td>1.9</td>\n",
              "    </tr>\n",
              "    <tr>\n",
              "      <th>147</th>\n",
              "      <td>148</td>\n",
              "      <td>6.5</td>\n",
              "      <td>3.0</td>\n",
              "      <td>5.2</td>\n",
              "      <td>2.0</td>\n",
              "    </tr>\n",
              "    <tr>\n",
              "      <th>148</th>\n",
              "      <td>149</td>\n",
              "      <td>6.2</td>\n",
              "      <td>3.4</td>\n",
              "      <td>5.4</td>\n",
              "      <td>2.3</td>\n",
              "    </tr>\n",
              "    <tr>\n",
              "      <th>149</th>\n",
              "      <td>150</td>\n",
              "      <td>5.9</td>\n",
              "      <td>3.0</td>\n",
              "      <td>5.1</td>\n",
              "      <td>1.8</td>\n",
              "    </tr>\n",
              "  </tbody>\n",
              "</table>\n",
              "<p>150 rows × 5 columns</p>\n",
              "</div>\n",
              "      <button class=\"colab-df-convert\" onclick=\"convertToInteractive('df-0f3060b6-fae3-40b7-a79d-b4c3ee2f257c')\"\n",
              "              title=\"Convert this dataframe to an interactive table.\"\n",
              "              style=\"display:none;\">\n",
              "        \n",
              "  <svg xmlns=\"http://www.w3.org/2000/svg\" height=\"24px\"viewBox=\"0 0 24 24\"\n",
              "       width=\"24px\">\n",
              "    <path d=\"M0 0h24v24H0V0z\" fill=\"none\"/>\n",
              "    <path d=\"M18.56 5.44l.94 2.06.94-2.06 2.06-.94-2.06-.94-.94-2.06-.94 2.06-2.06.94zm-11 1L8.5 8.5l.94-2.06 2.06-.94-2.06-.94L8.5 2.5l-.94 2.06-2.06.94zm10 10l.94 2.06.94-2.06 2.06-.94-2.06-.94-.94-2.06-.94 2.06-2.06.94z\"/><path d=\"M17.41 7.96l-1.37-1.37c-.4-.4-.92-.59-1.43-.59-.52 0-1.04.2-1.43.59L10.3 9.45l-7.72 7.72c-.78.78-.78 2.05 0 2.83L4 21.41c.39.39.9.59 1.41.59.51 0 1.02-.2 1.41-.59l7.78-7.78 2.81-2.81c.8-.78.8-2.07 0-2.86zM5.41 20L4 18.59l7.72-7.72 1.47 1.35L5.41 20z\"/>\n",
              "  </svg>\n",
              "      </button>\n",
              "      \n",
              "  <style>\n",
              "    .colab-df-container {\n",
              "      display:flex;\n",
              "      flex-wrap:wrap;\n",
              "      gap: 12px;\n",
              "    }\n",
              "\n",
              "    .colab-df-convert {\n",
              "      background-color: #E8F0FE;\n",
              "      border: none;\n",
              "      border-radius: 50%;\n",
              "      cursor: pointer;\n",
              "      display: none;\n",
              "      fill: #1967D2;\n",
              "      height: 32px;\n",
              "      padding: 0 0 0 0;\n",
              "      width: 32px;\n",
              "    }\n",
              "\n",
              "    .colab-df-convert:hover {\n",
              "      background-color: #E2EBFA;\n",
              "      box-shadow: 0px 1px 2px rgba(60, 64, 67, 0.3), 0px 1px 3px 1px rgba(60, 64, 67, 0.15);\n",
              "      fill: #174EA6;\n",
              "    }\n",
              "\n",
              "    [theme=dark] .colab-df-convert {\n",
              "      background-color: #3B4455;\n",
              "      fill: #D2E3FC;\n",
              "    }\n",
              "\n",
              "    [theme=dark] .colab-df-convert:hover {\n",
              "      background-color: #434B5C;\n",
              "      box-shadow: 0px 1px 3px 1px rgba(0, 0, 0, 0.15);\n",
              "      filter: drop-shadow(0px 1px 2px rgba(0, 0, 0, 0.3));\n",
              "      fill: #FFFFFF;\n",
              "    }\n",
              "  </style>\n",
              "\n",
              "      <script>\n",
              "        const buttonEl =\n",
              "          document.querySelector('#df-0f3060b6-fae3-40b7-a79d-b4c3ee2f257c button.colab-df-convert');\n",
              "        buttonEl.style.display =\n",
              "          google.colab.kernel.accessAllowed ? 'block' : 'none';\n",
              "\n",
              "        async function convertToInteractive(key) {\n",
              "          const element = document.querySelector('#df-0f3060b6-fae3-40b7-a79d-b4c3ee2f257c');\n",
              "          const dataTable =\n",
              "            await google.colab.kernel.invokeFunction('convertToInteractive',\n",
              "                                                     [key], {});\n",
              "          if (!dataTable) return;\n",
              "\n",
              "          const docLinkHtml = 'Like what you see? Visit the ' +\n",
              "            '<a target=\"_blank\" href=https://colab.research.google.com/notebooks/data_table.ipynb>data table notebook</a>'\n",
              "            + ' to learn more about interactive tables.';\n",
              "          element.innerHTML = '';\n",
              "          dataTable['output_type'] = 'display_data';\n",
              "          await google.colab.output.renderOutput(dataTable, element);\n",
              "          const docLink = document.createElement('div');\n",
              "          docLink.innerHTML = docLinkHtml;\n",
              "          element.appendChild(docLink);\n",
              "        }\n",
              "      </script>\n",
              "    </div>\n",
              "  </div>\n",
              "  "
            ]
          },
          "metadata": {},
          "execution_count": 17
        }
      ]
    },
    {
      "cell_type": "code",
      "source": [
        "y\n"
      ],
      "metadata": {
        "colab": {
          "base_uri": "https://localhost:8080/"
        },
        "id": "Ae2eJQFZP54W",
        "outputId": "f65cee14-42de-472e-f401-85a60cb455d3"
      },
      "execution_count": 18,
      "outputs": [
        {
          "output_type": "execute_result",
          "data": {
            "text/plain": [
              "0         Iris-setosa\n",
              "1         Iris-setosa\n",
              "2         Iris-setosa\n",
              "3         Iris-setosa\n",
              "4         Iris-setosa\n",
              "            ...      \n",
              "145    Iris-virginica\n",
              "146    Iris-virginica\n",
              "147    Iris-virginica\n",
              "148    Iris-virginica\n",
              "149    Iris-virginica\n",
              "Name: Species, Length: 150, dtype: object"
            ]
          },
          "metadata": {},
          "execution_count": 18
        }
      ]
    },
    {
      "cell_type": "code",
      "source": [
        "from sklearn.feature_selection import VarianceThreshold\n",
        "selection=VarianceThreshold(threshold=(0.1))\n",
        "x=selection.fit_transform(x)\n",
        "x.shape\n"
      ],
      "metadata": {
        "colab": {
          "base_uri": "https://localhost:8080/"
        },
        "id": "bWGDESGoP8zU",
        "outputId": "ce1ad543-db4a-4703-f7bd-9670ed1954bc"
      },
      "execution_count": 8,
      "outputs": [
        {
          "output_type": "execute_result",
          "data": {
            "text/plain": [
              "(150, 5)"
            ]
          },
          "metadata": {},
          "execution_count": 8
        }
      ]
    },
    {
      "cell_type": "code",
      "source": [
        "from sklearn.model_selection import train_test_split\n",
        "x_train,x_test,y_train,y_test=train_test_split(x,y,stratify=y,test_size=0.2,random_state=42)"
      ],
      "metadata": {
        "id": "wgNkyqGoQtmP"
      },
      "execution_count": 19,
      "outputs": []
    },
    {
      "cell_type": "code",
      "source": [
        "x_train.shape,x_test.shape"
      ],
      "metadata": {
        "colab": {
          "base_uri": "https://localhost:8080/"
        },
        "id": "qyTGxK2dRZ0n",
        "outputId": "c8382335-fe83-4bab-8f33-63878878a413"
      },
      "execution_count": 21,
      "outputs": [
        {
          "output_type": "execute_result",
          "data": {
            "text/plain": [
              "((120, 5), (30, 5))"
            ]
          },
          "metadata": {},
          "execution_count": 21
        }
      ]
    },
    {
      "cell_type": "code",
      "source": [
        "from sklearn.metrics import accuracy_score\n",
        "from sklearn.metrics import matthews_corrcoef\n",
        "from sklearn.metrics import f1_score\n"
      ],
      "metadata": {
        "id": "9dMMq20xRwUG"
      },
      "execution_count": 20,
      "outputs": []
    },
    {
      "cell_type": "code",
      "source": [
        "from sklearn.neighbors import KNeighborsClassifier\n",
        "knn=KNeighborsClassifier(3)\n",
        "knn.fit(x_train,y_train)\n",
        "y_train_pred=knn.predict(x_train)\n",
        "y_test_pred=knn.predict(x_test)\n",
        "knn_train_accuracy=accuracy_score(y_train,y_train_pred)\n",
        "knn_train_mcc=matthews_corrcoef(y_train,y_train_pred)\n",
        "knn_train_f1=f1_score(y_train,y_train_pred,average='weighted')\n",
        "knn_test_accuracy=accuracy_score(y_test,y_test_pred)\n",
        "knn_test_mcc=matthews_corrcoef(y_test,y_test_pred)\n",
        "knn_test_f1=f1_score(y_test,y_test_pred,average='weighted')\n",
        "print('Model performance for training set')\n",
        "print('-Accuracy: %s' % knn_train_accuracy)\n",
        "print('-MCC : %s' % knn_train_mcc)\n",
        "print('-f1: %s' %knn_train_f1)\n",
        "print('Model performance for test set')\n",
        "print('-Accuracy: %s' % knn_test_accuracy)\n",
        "print('-MCC : %s' % knn_test_mcc)\n",
        "print('-f1: %s' %knn_test_f1)"
      ],
      "metadata": {
        "colab": {
          "base_uri": "https://localhost:8080/"
        },
        "id": "LN2sEVzQSEfr",
        "outputId": "7053b93d-e5e1-4562-ba32-08fd95042757"
      },
      "execution_count": 22,
      "outputs": [
        {
          "output_type": "stream",
          "name": "stdout",
          "text": [
            "Model performance for training set\n",
            "-Accuracy: 1.0\n",
            "-MCC : 1.0\n",
            "-f1: 1.0\n",
            "Model performance for test set\n",
            "-Accuracy: 1.0\n",
            "-MCC : 1.0\n",
            "-f1: 1.0\n"
          ]
        }
      ]
    },
    {
      "cell_type": "code",
      "source": [
        "from sklearn.svm import SVC\n",
        "svm_rbf=SVC(gamma=2,C=1)\n",
        "svm_rbf.fit(x_train,y_train)\n",
        "y_train_pred=svm_rbf.predict(x_train)\n",
        "y_test_pred= svm_rbf.predict(x_test)\n",
        "svm_rbf_train_accuracy=accuracy_score(y_train,y_train_pred)\n",
        "svm_rbf_train_mcc=matthews_corrcoef(y_train,y_train_pred)\n",
        "svm_rbf_train_f1=f1_score(y_train,y_train_pred,average='weighted')\n",
        "svm_rbf_test_accuracy=accuracy_score(y_test,y_test_pred)\n",
        "svm_rbf_test_mcc=matthews_corrcoef(y_test,y_test_pred)\n",
        "svm_rbf_test_f1=f1_score(y_test,y_test_pred,average='weighted')\n",
        "print('Model performance for training set')\n",
        "print('-Accuracy: %s' % svm_rbf_train_accuracy)\n",
        "print('-MCC : %s' % svm_rbf_train_mcc)\n",
        "print('-f1: %s' % svm_rbf_train_f1)\n",
        "print('Model performance for test set')\n",
        "print('-Accuracy: %s' % svm_rbf_test_accuracy)\n",
        "print('-MCC : %s' % svm_rbf_test_mcc)\n",
        "print('-f1: %s' % svm_rbf_test_f1)\n"
      ],
      "metadata": {
        "colab": {
          "base_uri": "https://localhost:8080/"
        },
        "id": "VSIl6m36aglT",
        "outputId": "9f7a7ba6-7042-4157-d6a4-9571316d7383"
      },
      "execution_count": 23,
      "outputs": [
        {
          "output_type": "stream",
          "name": "stdout",
          "text": [
            "Model performance for training set\n",
            "-Accuracy: 1.0\n",
            "-MCC : 1.0\n",
            "-f1: 1.0\n",
            "Model performance for test set\n",
            "-Accuracy: 0.9333333333333333\n",
            "-MCC : 0.9060606745389328\n",
            "-f1: 0.9326599326599326\n"
          ]
        }
      ]
    },
    {
      "cell_type": "code",
      "source": [
        "from sklearn.tree import DecisionTreeClassifier\n",
        "dt=DecisionTreeClassifier(max_depth=5)\n",
        "dt.fit(x_train,y_train)\n",
        "y_train_pred=dt.predict(x_train)\n",
        "y_test_pred=dt.predict(x_test)\n",
        "dt_train_accuracy=accuracy_score(y_train,y_train_pred)\n",
        "dt_train_mcc=matthews_corrcoef(y_train,y_train_pred)\n",
        "dt_train_f1=f1_score(y_train,y_train_pred,average='weighted')\n",
        "dt_test_accuracy=accuracy_score(y_test,y_test_pred)\n",
        "dt_test_mcc=matthews_corrcoef(y_test,y_test_pred)\n",
        "dt_test_f1=f1_score(y_test,y_test_pred,average='weighted')\n",
        "print('Model performance for training set')\n",
        "print('-Accuracy: %s' % dt_train_accuracy)\n",
        "print('-MCC : %s' % dt_train_mcc)\n",
        "print('-f1: %s' % dt_train_f1)\n",
        "print('Model performance for test set')\n",
        "print('-Accuracy: %s' % dt_test_accuracy)\n",
        "print('-MCC : %s' % dt_test_mcc)\n",
        "print('-f1: %s' % dt_test_f1)\n",
        "\n"
      ],
      "metadata": {
        "colab": {
          "base_uri": "https://localhost:8080/"
        },
        "id": "7v81Dhrepvzn",
        "outputId": "00bb565c-4455-461e-d1cb-10e44091b647"
      },
      "execution_count": 24,
      "outputs": [
        {
          "output_type": "stream",
          "name": "stdout",
          "text": [
            "Model performance for training set\n",
            "-Accuracy: 1.0\n",
            "-MCC : 1.0\n",
            "-f1: 1.0\n",
            "Model performance for test set\n",
            "-Accuracy: 1.0\n",
            "-MCC : 1.0\n",
            "-f1: 1.0\n"
          ]
        }
      ]
    },
    {
      "cell_type": "code",
      "source": [
        "from sklearn.ensemble import RandomForestClassifier\n",
        "rf=RandomForestClassifier(n_estimators=10)\n",
        "rf.fit(x_train,y_train)\n",
        "y_train_pred=rf.predict(x_train)\n",
        "y_test_pred=rf.predict(x_test)\n",
        "rf_train_accuracy=accuracy_score(y_train,y_train_pred)\n",
        "rf_train_mcc=matthews_corrcoef(y_train,y_train_pred)\n",
        "rf_train_f1=f1_score(y_train,y_train_pred,average='weighted')\n",
        "rf_test_accuracy=accuracy_score(y_test,y_test_pred)\n",
        "rf_test_mcc=matthews_corrcoef(y_test,y_test_pred)\n",
        "rf_test_f1=f1_score(y_test,y_test_pred,average='weighted')\n",
        "print('Model performance for training set')\n",
        "print('-Accuracy: %s' % rf_train_accuracy)\n",
        "print('-MCC : %s' % rf_train_mcc)\n",
        "print('-f1: %s' % rf_train_f1)\n",
        "print('Model performance for test set')\n",
        "print('-Accuracy: %s' % rf_test_accuracy)\n",
        "print('-MCC : %s' % rf_test_mcc)\n",
        "print('-f1: %s' % rf_test_f1)\n"
      ],
      "metadata": {
        "colab": {
          "base_uri": "https://localhost:8080/"
        },
        "id": "sKrW9lgrs1Bk",
        "outputId": "8627003b-ebd9-4d9d-8547-fe881a4c6d4c"
      },
      "execution_count": 25,
      "outputs": [
        {
          "output_type": "stream",
          "name": "stdout",
          "text": [
            "Model performance for training set\n",
            "-Accuracy: 1.0\n",
            "-MCC : 1.0\n",
            "-f1: 1.0\n",
            "Model performance for test set\n",
            "-Accuracy: 1.0\n",
            "-MCC : 1.0\n",
            "-f1: 1.0\n"
          ]
        }
      ]
    },
    {
      "cell_type": "code",
      "source": [
        "from sklearn.neural_network import MLPClassifier\n",
        "mlp=MLPClassifier(alpha=1,max_iter=1000)\n",
        "mlp.fit(x_train,y_train)\n",
        "y_train_pred=mlp.predict(x_train)\n",
        "y_test_pred=mlp.predict(x_test)\n",
        "mlp_train_accuracy=accuracy_score(y_train,y_train_pred)\n",
        "mlp_train_mcc=matthews_corrcoef(y_train,y_train_pred)\n",
        "mlp_train_f1=f1_score(y_train,y_train_pred,average='weighted')\n",
        "mlp_test_accuracy=accuracy_score(y_test,y_test_pred)\n",
        "mlp_test_mcc=matthews_corrcoef(y_test,y_test_pred)\n",
        "mlp_test_f1=f1_score(y_test,y_test_pred,average='weighted')\n",
        "print('Model performance for training set')\n",
        "print('-Accuracy: %s' % mlp_train_accuracy)\n",
        "print('-MCC : %s' % mlp_train_mcc)\n",
        "print('-f1: %s' % mlp_train_f1)\n",
        "print('Model performance for test set')\n",
        "print('-Accuracy: %s' % mlp_test_accuracy)\n",
        "print('-MCC : %s' % mlp_test_mcc)\n",
        "print('-f1: %s' % mlp_test_f1)\n"
      ],
      "metadata": {
        "colab": {
          "base_uri": "https://localhost:8080/"
        },
        "id": "T_U_EOCPto4L",
        "outputId": "6d5f4988-943e-4b26-a11e-baf91f8f0fd5"
      },
      "execution_count": 26,
      "outputs": [
        {
          "output_type": "stream",
          "name": "stdout",
          "text": [
            "Model performance for training set\n",
            "-Accuracy: 1.0\n",
            "-MCC : 1.0\n",
            "-f1: 1.0\n",
            "Model performance for test set\n",
            "-Accuracy: 1.0\n",
            "-MCC : 1.0\n",
            "-f1: 1.0\n"
          ]
        }
      ]
    },
    {
      "cell_type": "code",
      "source": [
        "from sklearn.ensemble import StackingClassifier"
      ],
      "metadata": {
        "id": "Gd1cap1ZMxkj"
      },
      "execution_count": 1,
      "outputs": []
    },
    {
      "cell_type": "code",
      "source": [
        "from sklearn.ensemble import StackingClassifier\n",
        "from sklearn.linear_model import LogisticRegression\n",
        "estimator_list=[\n",
        "          ('knn',knn),\n",
        "          ('svm_rbf',svm_rbf),\n",
        "          ('dt',dt),\n",
        "          ('rf',rf),\n",
        "          ('mlp',mlp) ]\n",
        "Stack_model=StackingClassifier(\n",
        "    estimators=estimator_list,final_estimator=LogisticRegression()\n",
        "    )\n",
        "Stack_model.fit(x_train,y_train)\n",
        "y_train_pred=Stack_model.predict(x_train)\n",
        "y_test_pred=Stack_model.predict(x_test)\n",
        "Stack_model_train_accuracy=accuracy_score(y_train,y_train_pred)\n",
        "Stack_model_train_mcc=matthews_corrcoef(y_train,y_train_pred)\n",
        "Stack_model_train_f1=f1_score(y_train,y_train_pred,average='weighted')\n",
        "Stack_model_test_accuracy=accuracy_score(y_test,y_test_pred)\n",
        "Stack_model_test_mcc=matthews_corrcoef(y_test,y_test_pred)\n",
        "Stack_model_test_f1=f1_score(y_test,y_test_pred,average='weighted')\n",
        "print('Model performance for training set')\n",
        "print('-Accuracy: %s' % Stack_model_train_accuracy)\n",
        "print('-MCC : %s' % Stack_model_train_mcc)\n",
        "print('-f1: %s' % Stack_model_train_f1)\n",
        "print('Model performance for test set')\n",
        "print('-Accuracy: %s' % Stack_model_test_accuracy)\n",
        "print('-MCC : %s' % Stack_model_test_mcc)\n",
        "print('-f1: %s' % Stack_model_test_f1)\n"
      ],
      "metadata": {
        "colab": {
          "base_uri": "https://localhost:8080/"
        },
        "id": "B8McWgRiNFWQ",
        "outputId": "aa86353c-43f0-4095-9e7f-9df14fe6b465"
      },
      "execution_count": 27,
      "outputs": [
        {
          "output_type": "stream",
          "name": "stdout",
          "text": [
            "Model performance for training set\n",
            "-Accuracy: 1.0\n",
            "-MCC : 1.0\n",
            "-f1: 1.0\n",
            "Model performance for test set\n",
            "-Accuracy: 1.0\n",
            "-MCC : 1.0\n",
            "-f1: 1.0\n"
          ]
        }
      ]
    },
    {
      "cell_type": "code",
      "source": [
        "acc_train_list={'knn':knn_train_accuracy,\n",
        "                'svm_rbf':svm_rbf_train_accuracy,\n",
        "                'dt':dt_train_accuracy,\n",
        "                'rf':rf_train_accuracy,\n",
        "                'mlp':mlp_train_accuracy,\n",
        "                'stack':Stack_model_train_accuracy}\n",
        "mcc_train_list={'knn':knn_train_mcc,\n",
        "                'svm_rbf' : svm_rbf_train_mcc,\n",
        "                'dt' : dt_train_mcc,\n",
        "                'rf' : rf_train_mcc,\n",
        "                'mlp':mlp_train_mcc,\n",
        "                'stack':Stack_model_train_mcc}\n",
        "f1_train_list={'knn':knn_train_f1,\n",
        "               'dt':dt_train_f1 ,\n",
        "                'rf':rf_train_f1,\n",
        "                'mlp':mlp_train_f1 ,\n",
        "                'stack':Stack_model_train_f1 }\n"
      ],
      "metadata": {
        "id": "UY6-1lX2OCP_"
      },
      "execution_count": 29,
      "outputs": []
    },
    {
      "cell_type": "code",
      "source": [
        "mcc_train_list\n"
      ],
      "metadata": {
        "colab": {
          "base_uri": "https://localhost:8080/"
        },
        "id": "YWAUJBN3Qhpp",
        "outputId": "e9a1ba9a-5281-4072-d212-f7690707b5ce"
      },
      "execution_count": 30,
      "outputs": [
        {
          "output_type": "execute_result",
          "data": {
            "text/plain": [
              "{'knn': 1.0, 'svm_rbf': 1.0, 'dt': 1.0, 'rf': 1.0, 'mlp': 1.0, 'stack': 1.0}"
            ]
          },
          "metadata": {},
          "execution_count": 30
        }
      ]
    },
    {
      "cell_type": "code",
      "source": [
        "import pandas as pd\n",
        "acc_df=pd.DataFrame.from_dict(acc_train_list,orient='index',columns=['Acuuracy'])\n",
        "mcc_df=pd.DataFrame.from_dict(mcc_train_list,orient='index',columns=['Mcc'])\n",
        "f1_df=pd.DataFrame.from_dict(f1_train_list,orient='index',columns=['F1'])\n",
        "df=pd.concat([acc_df,mcc_df,f1_df],axis=1)\n",
        "df\n",
        "\n"
      ],
      "metadata": {
        "colab": {
          "base_uri": "https://localhost:8080/",
          "height": 238
        },
        "id": "cixIE9ptQl-e",
        "outputId": "d513cb69-5b37-45b4-8715-eab9b5dff1de"
      },
      "execution_count": 36,
      "outputs": [
        {
          "output_type": "execute_result",
          "data": {
            "text/plain": [
              "         Acuuracy  Mcc   F1\n",
              "knn           1.0  1.0  1.0\n",
              "svm_rbf       1.0  1.0  NaN\n",
              "dt            1.0  1.0  1.0\n",
              "rf            1.0  1.0  1.0\n",
              "mlp           1.0  1.0  1.0\n",
              "stack         1.0  1.0  1.0"
            ],
            "text/html": [
              "\n",
              "  <div id=\"df-c6d812d0-aca2-4c2a-9bca-16ca5d3853ff\">\n",
              "    <div class=\"colab-df-container\">\n",
              "      <div>\n",
              "<style scoped>\n",
              "    .dataframe tbody tr th:only-of-type {\n",
              "        vertical-align: middle;\n",
              "    }\n",
              "\n",
              "    .dataframe tbody tr th {\n",
              "        vertical-align: top;\n",
              "    }\n",
              "\n",
              "    .dataframe thead th {\n",
              "        text-align: right;\n",
              "    }\n",
              "</style>\n",
              "<table border=\"1\" class=\"dataframe\">\n",
              "  <thead>\n",
              "    <tr style=\"text-align: right;\">\n",
              "      <th></th>\n",
              "      <th>Acuuracy</th>\n",
              "      <th>Mcc</th>\n",
              "      <th>F1</th>\n",
              "    </tr>\n",
              "  </thead>\n",
              "  <tbody>\n",
              "    <tr>\n",
              "      <th>knn</th>\n",
              "      <td>1.0</td>\n",
              "      <td>1.0</td>\n",
              "      <td>1.0</td>\n",
              "    </tr>\n",
              "    <tr>\n",
              "      <th>svm_rbf</th>\n",
              "      <td>1.0</td>\n",
              "      <td>1.0</td>\n",
              "      <td>NaN</td>\n",
              "    </tr>\n",
              "    <tr>\n",
              "      <th>dt</th>\n",
              "      <td>1.0</td>\n",
              "      <td>1.0</td>\n",
              "      <td>1.0</td>\n",
              "    </tr>\n",
              "    <tr>\n",
              "      <th>rf</th>\n",
              "      <td>1.0</td>\n",
              "      <td>1.0</td>\n",
              "      <td>1.0</td>\n",
              "    </tr>\n",
              "    <tr>\n",
              "      <th>mlp</th>\n",
              "      <td>1.0</td>\n",
              "      <td>1.0</td>\n",
              "      <td>1.0</td>\n",
              "    </tr>\n",
              "    <tr>\n",
              "      <th>stack</th>\n",
              "      <td>1.0</td>\n",
              "      <td>1.0</td>\n",
              "      <td>1.0</td>\n",
              "    </tr>\n",
              "  </tbody>\n",
              "</table>\n",
              "</div>\n",
              "      <button class=\"colab-df-convert\" onclick=\"convertToInteractive('df-c6d812d0-aca2-4c2a-9bca-16ca5d3853ff')\"\n",
              "              title=\"Convert this dataframe to an interactive table.\"\n",
              "              style=\"display:none;\">\n",
              "        \n",
              "  <svg xmlns=\"http://www.w3.org/2000/svg\" height=\"24px\"viewBox=\"0 0 24 24\"\n",
              "       width=\"24px\">\n",
              "    <path d=\"M0 0h24v24H0V0z\" fill=\"none\"/>\n",
              "    <path d=\"M18.56 5.44l.94 2.06.94-2.06 2.06-.94-2.06-.94-.94-2.06-.94 2.06-2.06.94zm-11 1L8.5 8.5l.94-2.06 2.06-.94-2.06-.94L8.5 2.5l-.94 2.06-2.06.94zm10 10l.94 2.06.94-2.06 2.06-.94-2.06-.94-.94-2.06-.94 2.06-2.06.94z\"/><path d=\"M17.41 7.96l-1.37-1.37c-.4-.4-.92-.59-1.43-.59-.52 0-1.04.2-1.43.59L10.3 9.45l-7.72 7.72c-.78.78-.78 2.05 0 2.83L4 21.41c.39.39.9.59 1.41.59.51 0 1.02-.2 1.41-.59l7.78-7.78 2.81-2.81c.8-.78.8-2.07 0-2.86zM5.41 20L4 18.59l7.72-7.72 1.47 1.35L5.41 20z\"/>\n",
              "  </svg>\n",
              "      </button>\n",
              "      \n",
              "  <style>\n",
              "    .colab-df-container {\n",
              "      display:flex;\n",
              "      flex-wrap:wrap;\n",
              "      gap: 12px;\n",
              "    }\n",
              "\n",
              "    .colab-df-convert {\n",
              "      background-color: #E8F0FE;\n",
              "      border: none;\n",
              "      border-radius: 50%;\n",
              "      cursor: pointer;\n",
              "      display: none;\n",
              "      fill: #1967D2;\n",
              "      height: 32px;\n",
              "      padding: 0 0 0 0;\n",
              "      width: 32px;\n",
              "    }\n",
              "\n",
              "    .colab-df-convert:hover {\n",
              "      background-color: #E2EBFA;\n",
              "      box-shadow: 0px 1px 2px rgba(60, 64, 67, 0.3), 0px 1px 3px 1px rgba(60, 64, 67, 0.15);\n",
              "      fill: #174EA6;\n",
              "    }\n",
              "\n",
              "    [theme=dark] .colab-df-convert {\n",
              "      background-color: #3B4455;\n",
              "      fill: #D2E3FC;\n",
              "    }\n",
              "\n",
              "    [theme=dark] .colab-df-convert:hover {\n",
              "      background-color: #434B5C;\n",
              "      box-shadow: 0px 1px 3px 1px rgba(0, 0, 0, 0.15);\n",
              "      filter: drop-shadow(0px 1px 2px rgba(0, 0, 0, 0.3));\n",
              "      fill: #FFFFFF;\n",
              "    }\n",
              "  </style>\n",
              "\n",
              "      <script>\n",
              "        const buttonEl =\n",
              "          document.querySelector('#df-c6d812d0-aca2-4c2a-9bca-16ca5d3853ff button.colab-df-convert');\n",
              "        buttonEl.style.display =\n",
              "          google.colab.kernel.accessAllowed ? 'block' : 'none';\n",
              "\n",
              "        async function convertToInteractive(key) {\n",
              "          const element = document.querySelector('#df-c6d812d0-aca2-4c2a-9bca-16ca5d3853ff');\n",
              "          const dataTable =\n",
              "            await google.colab.kernel.invokeFunction('convertToInteractive',\n",
              "                                                     [key], {});\n",
              "          if (!dataTable) return;\n",
              "\n",
              "          const docLinkHtml = 'Like what you see? Visit the ' +\n",
              "            '<a target=\"_blank\" href=https://colab.research.google.com/notebooks/data_table.ipynb>data table notebook</a>'\n",
              "            + ' to learn more about interactive tables.';\n",
              "          element.innerHTML = '';\n",
              "          dataTable['output_type'] = 'display_data';\n",
              "          await google.colab.output.renderOutput(dataTable, element);\n",
              "          const docLink = document.createElement('div');\n",
              "          docLink.innerHTML = docLinkHtml;\n",
              "          element.appendChild(docLink);\n",
              "        }\n",
              "      </script>\n",
              "    </div>\n",
              "  </div>\n",
              "  "
            ]
          },
          "metadata": {},
          "execution_count": 36
        }
      ]
    },
    {
      "cell_type": "code",
      "source": [
        "df.to_csv('results.csv')"
      ],
      "metadata": {
        "id": "EUpZG7egRpDV"
      },
      "execution_count": 37,
      "outputs": []
    }
  ]
}